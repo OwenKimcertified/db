{
 "cells": [
  {
   "cell_type": "markdown",
   "metadata": {},
   "source": [
    "### 이미 존재하는 컨테이너에 포트와 마운트 경로를 추가해야한다..?\n",
    "\n",
    "DB 의 경우 볼륨을 설정해야하는데, 옵션을 까먹는 경우가 있다.\n",
    "\n",
    "이미 존재하는 컨테이너에 마운트 경로 혹은 포트를 추가하는 방법은 run 밖에 없는데,\n",
    "\n",
    "그러려면 컨테이너를 삭제하고 다시 가동해야한다.\n",
    "\n",
    "docker commit `<container name2>` 으로 기존 컨테이너를 이미지화 시킨 후 rm.\n",
    "\n",
    "docker run --name `<origin container name>` \\\n",
    "    --net=cluster \\\n",
    "    --ip=192.168.0.3 \\\n",
    "    -p ~:~ \\\n",
    "    -v /local/file/sys/path:/docker/container/file/sys/path \\\n",
    "    `<container name2>`\n",
    "\n",
    "한 번 실행할 때 꼼꼼하게.\n",
    "\n",
    "docker inspect -f '{{ .Mounts }}' `<container name>` 으로 마운트된 경로를 알 수 있다.\n",
    "\n",
    "![test](./imgs/4.png)\n",
    "\n",
    "이 경우에 필자는 볼륨이 아닌 로컬 파일 시스템의 로컬 폴더에 바인드 마운트 했기 때문에 \n",
    "\n",
    "inspect 시 volume 에는 null 이라고 나옴.\n",
    "\n",
    "![test](./imgs/6.png)\n",
    "\n",
    "컨테이너 inspect 로도 확인할 수 있다.\n",
    "\n",
    "![test](./imgs/5.png)\n",
    "\n",
    "-----------------------------\n",
    "\n",
    "Windows 의 경우 쓰기 권한 설정 \n",
    "\n",
    "CMD 에서.\n",
    "\n",
    "`ICACLS \"/local/file/sys/path\" /grant Users:(OI)(CI)F`\n",
    "\n",
    "-----------------------------\n",
    "\n",
    "linux 의 경우 쓰기 권한 설정 \n",
    "\n",
    "terminal 에서.\n",
    "\n",
    "`chmod 777 /local/file/sys/path`"
   ]
  }
 ],
 "metadata": {
  "kernelspec": {
   "display_name": "BD",
   "language": "python",
   "name": "python3"
  },
  "language_info": {
   "name": "python",
   "version": "3.9.0"
  }
 },
 "nbformat": 4,
 "nbformat_minor": 2
}
